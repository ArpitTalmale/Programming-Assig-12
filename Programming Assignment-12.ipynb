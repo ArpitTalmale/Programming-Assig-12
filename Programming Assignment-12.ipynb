{
 "cells": [
  {
   "cell_type": "markdown",
   "id": "5ae603e1",
   "metadata": {},
   "source": [
    "### 1.Write a Python program to Extract Unique values dictionary values?"
   ]
  },
  {
   "cell_type": "code",
   "execution_count": 2,
   "id": "58409b7a",
   "metadata": {},
   "outputs": [
    {
     "name": "stdout",
     "output_type": "stream",
     "text": [
      "dict_values(['Indore', 'Bhopal', 'Gujarat', 'Indore', 'Kedarnath', 'Japan', 'Gujarat'])\n",
      "Unique Values: ['Gujarat', 'Indore', 'Kedarnath', 'Bhopal', 'Japan']\n"
     ]
    }
   ],
   "source": [
    "#Solution:-\n",
    "\n",
    "def unique_values(in_dict):\n",
    "    print(in_dict.values())\n",
    "    print(f'Unique Values: {list(set(in_dict.values()))}')\n",
    "    \n",
    "\n",
    "in_dict = {1:'Indore',2:'Bhopal',3:'Gujarat',4:'Indore',5:'Kedarnath',6:'Japan',7:'Gujarat'}\n",
    "unique_values(in_dict)"
   ]
  },
  {
   "cell_type": "markdown",
   "id": "52a5cada",
   "metadata": {},
   "source": [
    "### 2.Write a Python program to find the sum of all items in a dictionary? "
   ]
  },
  {
   "cell_type": "code",
   "execution_count": 3,
   "id": "d264bbad",
   "metadata": {},
   "outputs": [
    {
     "name": "stdout",
     "output_type": "stream",
     "text": [
      "Sum of all items:- 194\n"
     ]
    }
   ],
   "source": [
    "#Solution:-\n",
    "\n",
    "def sum_items(in_dict):\n",
    "    print(\"Sum of all items:-\",sum(in_dict.values()))\n",
    "\n",
    "in_dict = {'Marbles':70,'Sweets':65,'Pens':34,'Mouse':25}\n",
    "sum_items(in_dict)"
   ]
  },
  {
   "cell_type": "markdown",
   "id": "2c77f27c",
   "metadata": {},
   "source": [
    "### 3.Write a Python program to Merging two Dictionaries? "
   ]
  },
  {
   "cell_type": "code",
   "execution_count": 5,
   "id": "7780e396",
   "metadata": {},
   "outputs": [
    {
     "name": "stdout",
     "output_type": "stream",
     "text": [
      "{'Institute': 'Ineuron', 'Course': 'FSDS'}\n"
     ]
    }
   ],
   "source": [
    "#Solution:-\n",
    "\n",
    "def merging(dict_1,dict_2):\n",
    "    dict_1.update(dict_2)\n",
    "    print(dict_1)\n",
    "    \n",
    "dict_1 = {'Institute':'Ineuron'}\n",
    "dict_2 = {'Course':'FSDS'}\n",
    "merging(dict_1,dict_2)\n",
    "    "
   ]
  },
  {
   "cell_type": "markdown",
   "id": "2d2a9060",
   "metadata": {},
   "source": [
    "### 4.Write a Python program to convert key-values list to flat dictionary? "
   ]
  },
  {
   "cell_type": "code",
   "execution_count": 7,
   "id": "03da158d",
   "metadata": {},
   "outputs": [
    {
     "name": "stdout",
     "output_type": "stream",
     "text": [
      "{'Apple': 10, 'Ball': 20, 'Cat': 30, 'Dog': 25}\n"
     ]
    }
   ],
   "source": [
    "#Solution:-\n",
    "\n",
    "def flat_dict(list_1):\n",
    "    print(dict(list_1))\n",
    "list_1 = [('Apple',10),('Ball',20),('Cat',30),('Dog',25)]\n",
    "flat_dict(list_1)"
   ]
  },
  {
   "cell_type": "code",
   "execution_count": 8,
   "id": "b3f4d9ef",
   "metadata": {},
   "outputs": [
    {
     "name": "stdout",
     "output_type": "stream",
     "text": [
      "{'Apple': 10, 'Ball': 20, 'Cat': 30, 'Dog': 25}\n"
     ]
    }
   ],
   "source": [
    "#Another method:-\n",
    "\n",
    "def flat_dict(list_1):\n",
    "    dict_1 = {}\n",
    "    for i in list_1:\n",
    "        dict_1[i[0]] = i[1]\n",
    "    print(dict_1)\n",
    "list_1 = [('Apple',10),('Ball',20),('Cat',30),('Dog',25)]    \n",
    "flat_dict(list_1)    \n",
    "        "
   ]
  },
  {
   "cell_type": "markdown",
   "id": "6f6bb910",
   "metadata": {},
   "source": [
    "### 5.Write a Python program to insertion at the beginning in OrderedDict? "
   ]
  },
  {
   "cell_type": "code",
   "execution_count": 9,
   "id": "cb92620b",
   "metadata": {},
   "outputs": [
    {
     "name": "stdout",
     "output_type": "stream",
     "text": [
      "dict_one OrderedDict([('Apple', 'Red'), ('Banana', 'Yellow'), ('Mango', 'Green')])\n",
      "dict_one OrderedDict([('Apple', 'Red'), ('Banana', 'Yellow'), ('Mango', 'Green'), ('Potato', 'White')])\n",
      "dict_one OrderedDict([('Potato', 'White'), ('Apple', 'Red'), ('Banana', 'Yellow'), ('Mango', 'Green')])\n"
     ]
    }
   ],
   "source": [
    "#Solution:-\n",
    "\n",
    "from collections import OrderedDict\n",
    "\n",
    "dict_one = OrderedDict({'Apple':'Red','Banana':'Yellow','Mango':'Green'})\n",
    "print('dict_one',dict_one)\n",
    "\n",
    "dict_two = {'Potato':'White'}\n",
    "dict_one.update(dict_two)\n",
    "print('dict_one',dict_one)\n",
    "\n",
    "dict_one.move_to_end('Potato',last=False)\n",
    "print('dict_one',dict_one)"
   ]
  },
  {
   "cell_type": "markdown",
   "id": "a0fae376",
   "metadata": {},
   "source": [
    "### 6.Write a Python program to check order of character in string using OrderedDict()? "
   ]
  },
  {
   "cell_type": "code",
   "execution_count": 11,
   "id": "f812d1b8",
   "metadata": {},
   "outputs": [
    {
     "name": "stdout",
     "output_type": "stream",
     "text": [
      "The given dictionary:- {'C': 90, 'D': 100, 'A': 20, 'E': 110, 'B': 30}\n",
      "The order character dictionary:- OrderedDict([('A', 20), ('B', 30), ('C', 90), ('D', 100), ('E', 110)])\n"
     ]
    }
   ],
   "source": [
    "#Solution:-\n",
    "\n",
    "from collections import OrderedDict\n",
    "\n",
    "input_dict = {'C':90,'D':100,'A':20,'E':110,'B':30}\n",
    "print(\"The given dictionary:-\",input_dict)\n",
    "\n",
    "order_dict = OrderedDict(dict(sorted(input_dict.items())))\n",
    "print(\"The order character dictionary:-\",order_dict)"
   ]
  },
  {
   "cell_type": "markdown",
   "id": "1a14fbee",
   "metadata": {},
   "source": [
    "### 7.Write a Python program to sort Python Dictionaries by Key or Value? "
   ]
  },
  {
   "cell_type": "code",
   "execution_count": 12,
   "id": "a72fb180",
   "metadata": {},
   "outputs": [
    {
     "name": "stdout",
     "output_type": "stream",
     "text": [
      "Sorted on the basis of key:- {'Alpha': 88, 'English': 72, 'Maths': 65, 'Science': 70}\n",
      "Sorted on the basis of values:- {'Maths': 65, 'Science': 70, 'English': 72, 'Alpha': 88}\n"
     ]
    }
   ],
   "source": [
    "#Solution:-\n",
    "\n",
    "def sort_dict(in_dict,sort_type):\n",
    "    if sort_type == 'key':\n",
    "        print(\"Sorted on the basis of key:-\",dict(sorted(in_dict.items(), key=lambda x:x[0],reverse=False)))\n",
    "    else:\n",
    "        print(\"Sorted on the basis of values:-\",dict(sorted(in_dict.items(),key=lambda x:x[1],reverse=False)))\n",
    "\n",
    "in_dict = {'English':72,'Alpha':88,'Science':70,'Maths':65}\n",
    "sort_dict(in_dict,'key')\n",
    "sort_dict(in_dict,'value')"
   ]
  }
 ],
 "metadata": {
  "kernelspec": {
   "display_name": "Python 3 (ipykernel)",
   "language": "python",
   "name": "python3"
  },
  "language_info": {
   "codemirror_mode": {
    "name": "ipython",
    "version": 3
   },
   "file_extension": ".py",
   "mimetype": "text/x-python",
   "name": "python",
   "nbconvert_exporter": "python",
   "pygments_lexer": "ipython3",
   "version": "3.10.9"
  }
 },
 "nbformat": 4,
 "nbformat_minor": 5
}
